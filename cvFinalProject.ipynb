{
  "nbformat": 4,
  "nbformat_minor": 0,
  "metadata": {
    "colab": {
      "provenance": []
    },
    "kernelspec": {
      "name": "python3",
      "display_name": "Python 3"
    },
    "language_info": {
      "name": "python"
    },
    "gpuClass": "standard",
    "accelerator": "GPU"
  },
  "cells": [
    {
      "cell_type": "code",
      "source": [
        "!mkdir /root/.kaggle\n",
        "!echo '{\"username\":\"addisonmorgan\",\"key\":\"c065aaee0f5e07e0b5ee238d05d90e86\"}' > /root/.kaggle/kaggle.json\n",
        "!chmod 600 /root/.kaggle/kaggle.json\n",
        "!kaggle datasets download -d grassknoted/asl-alphabet\n",
        "!unzip asl-alphabet.zip >/dev/null\n",
        "!pip install pyyaml h5py"
      ],
      "metadata": {
        "colab": {
          "base_uri": "https://localhost:8080/"
        },
        "id": "06Dta3ChZbpO",
        "outputId": "4bf8e79c-f981-49bf-fe24-719a0cbabf0b"
      },
      "execution_count": null,
      "outputs": [
        {
          "output_type": "stream",
          "name": "stdout",
          "text": [
            "Downloading asl-alphabet.zip to /content\n",
            " 98% 1.01G/1.03G [00:11<00:00, 65.4MB/s]\n",
            "100% 1.03G/1.03G [00:11<00:00, 96.8MB/s]\n",
            "Looking in indexes: https://pypi.org/simple, https://us-python.pkg.dev/colab-wheels/public/simple/\n",
            "Requirement already satisfied: pyyaml in /usr/local/lib/python3.8/dist-packages (6.0)\n",
            "Requirement already satisfied: h5py in /usr/local/lib/python3.8/dist-packages (3.1.0)\n",
            "Requirement already satisfied: numpy>=1.17.5 in /usr/local/lib/python3.8/dist-packages (from h5py) (1.21.6)\n"
          ]
        }
      ]
    },
    {
      "cell_type": "code",
      "execution_count": null,
      "metadata": {
        "id": "h4prPpXNYiSg",
        "colab": {
          "base_uri": "https://localhost:8080/"
        },
        "outputId": "1e42c216-65bb-4f20-c420-39c3c848f515"
      },
      "outputs": [
        {
          "output_type": "stream",
          "name": "stdout",
          "text": [
            "2.9.2\n"
          ]
        }
      ],
      "source": [
        "from tensorflow.python.client import device_lib\n",
        "\n",
        "# Load Data\n",
        "import os\n",
        "import cv2\n",
        "import numpy as np\n",
        "\n",
        "# Data Visualisation\n",
        "import matplotlib.pyplot as plt\n",
        "\n",
        "# Model Training\n",
        "import tensorflow as tf\n",
        "from tensorflow.keras import utils\n",
        "from tensorflow.keras.optimizers import Adam\n",
        "from tensorflow.keras.models import Sequential\n",
        "from tensorflow.keras.layers import Dense, Dropout, Flatten, Conv2D, MaxPooling2D, BatchNormalization\n",
        "from sklearn.model_selection import train_test_split"
      ]
    },
    {
      "cell_type": "code",
      "source": [
        "train_dir = \"/content/asl_alphabet_train/asl_alphabet_train\"\n",
        "test_dir = \"/content/asl_alphabet_test/asl_alphabet_test\"\n",
        "\n",
        "IMSIZE = 64"
      ],
      "metadata": {
        "id": "LU9EZJWiZg7Q"
      },
      "execution_count": null,
      "outputs": []
    },
    {
      "cell_type": "code",
      "source": [
        "def get_data(data_dir) :\n",
        "    images = []\n",
        "    labels = []\n",
        "    \n",
        "    dir_list = os.listdir(data_dir)\n",
        "    for i in range(len(dir_list)):\n",
        "        print(\"Obtaining images of\", dir_list[i], \"...\")\n",
        "        for image in os.listdir(data_dir + \"/\" + dir_list[i]):\n",
        "            # img = cv2.cvtColor(cv2.imread(data_dir + '/' + dir_list[i] + '/' + image), cv2.COLOR_BGR2GRAY)\n",
        "            img = cv2.cvtColor(cv2.imread(data_dir + '/' + dir_list[i] + '/' + image), cv2.COLOR_BGR2RGB)\n",
        "            img = cv2.resize(img, (IMSIZE, IMSIZE))\n",
        "            # images.append(img[:, :, None])\n",
        "            # images.append(img[None, :, :, :])\n",
        "            images.append(img)\n",
        "            labels.append(i)\n",
        "    \n",
        "    return images, labels\n",
        "        \n",
        "X, y = get_data(train_dir)"
      ],
      "metadata": {
        "id": "_fsyQfwkZ-_i",
        "colab": {
          "base_uri": "https://localhost:8080/"
        },
        "outputId": "1b7d5d57-5c1d-4bf7-e118-c0f323c88aad"
      },
      "execution_count": null,
      "outputs": [
        {
          "output_type": "stream",
          "name": "stdout",
          "text": [
            "Obtaining images of M ...\n",
            "Obtaining images of Q ...\n",
            "Obtaining images of E ...\n",
            "Obtaining images of L ...\n",
            "Obtaining images of C ...\n",
            "Obtaining images of F ...\n",
            "Obtaining images of B ...\n",
            "Obtaining images of S ...\n",
            "Obtaining images of space ...\n",
            "Obtaining images of U ...\n",
            "Obtaining images of Y ...\n",
            "Obtaining images of T ...\n",
            "Obtaining images of D ...\n",
            "Obtaining images of N ...\n",
            "Obtaining images of H ...\n",
            "Obtaining images of W ...\n",
            "Obtaining images of nothing ...\n",
            "Obtaining images of O ...\n",
            "Obtaining images of del ...\n",
            "Obtaining images of A ...\n",
            "Obtaining images of V ...\n",
            "Obtaining images of J ...\n",
            "Obtaining images of R ...\n",
            "Obtaining images of P ...\n",
            "Obtaining images of X ...\n",
            "Obtaining images of Z ...\n",
            "Obtaining images of G ...\n",
            "Obtaining images of I ...\n",
            "Obtaining images of K ...\n"
          ]
        }
      ]
    },
    {
      "cell_type": "code",
      "source": [
        "classes_List = ['A', 'B', 'C', 'D', 'E', 'F', 'G', 'H', 'I', 'J', 'K', \n",
        "           'L', 'M', 'N', 'O', 'P', 'Q', 'R', 'S', 'T', 'U', 'V', \n",
        "           'W', 'X', 'Y', 'Z', 'del', 'nothing', 'space']"
      ],
      "metadata": {
        "id": "uoLu_ISyaP_k"
      },
      "execution_count": null,
      "outputs": []
    },
    {
      "cell_type": "code",
      "source": [
        "def preprocess_data(X, y):\n",
        "    np_X = np.array(X)\n",
        "    normalised_X = np_X.astype('float32')/255.0\n",
        "    np_X = []\n",
        "    \n",
        "    label_encoded_y = utils.to_categorical(y)\n",
        "    X = []\n",
        "    y = []\n",
        "    \n",
        "    x_train, x_test, y_train, y_test = train_test_split(normalised_X, label_encoded_y, test_size = 0.1)\n",
        "    normalized_X = []\n",
        "    label_encoded_y = []\n",
        "    \n",
        "    return x_train, x_test, y_train, y_test\n",
        "\n",
        "x_train, x_test, y_train, y_test = preprocess_data(X, y)\n",
        "X = []\n",
        "y = []\n"
      ],
      "metadata": {
        "id": "XEf-xDp8aaxK"
      },
      "execution_count": null,
      "outputs": []
    },
    {
      "cell_type": "code",
      "source": [
        "classes = 29\n",
        "batch = 64\n",
        "epochs = 15\n",
        "learning_rate = 0.001"
      ],
      "metadata": {
        "id": "6WjQIXN6agxT"
      },
      "execution_count": null,
      "outputs": []
    },
    {
      "cell_type": "code",
      "source": [
        "model = Sequential()\n",
        "\n",
        "model.add(Conv2D(64, (3, 3), padding='same', input_shape=(IMSIZE, IMSIZE, 3), activation='relu'))\n",
        "model.add(MaxPooling2D(pool_size=(2, 2)))\n",
        "model.add(BatchNormalization())\n",
        "\n",
        "model.add(Conv2D(128, (3, 3), padding='same', input_shape=(IMSIZE, IMSIZE, 3), activation='relu'))\n",
        "model.add(MaxPooling2D(pool_size=(2, 2)))\n",
        "model.add(BatchNormalization())\n",
        "model.add(Dropout(0.2))\n",
        "\n",
        "model.add(Conv2D(256, (3, 3), padding='same', input_shape=(IMSIZE, IMSIZE, 3), activation='relu'))\n",
        "model.add(MaxPooling2D(pool_size=(2, 2)))\n",
        "model.add(BatchNormalization())\n",
        "\n",
        "model.add(Flatten())\n",
        "model.add(Dropout(0.2))\n",
        "model.add(Dense(1024, activation='relu'))\n",
        "model.add(Dense(classes, activation='softmax'))\n",
        "\n",
        "\n",
        "adam = Adam(lr=learning_rate)\n",
        "model.compile(optimizer=adam, loss='categorical_crossentropy', metrics=['accuracy'])"
      ],
      "metadata": {
        "id": "yGlPqukzan4y",
        "colab": {
          "base_uri": "https://localhost:8080/"
        },
        "outputId": "be8b003e-7974-4cbf-fa01-ad8e0365757d"
      },
      "execution_count": null,
      "outputs": [
        {
          "output_type": "stream",
          "name": "stderr",
          "text": [
            "/usr/local/lib/python3.8/dist-packages/keras/optimizers/optimizer_v2/adam.py:110: UserWarning: The `lr` argument is deprecated, use `learning_rate` instead.\n",
            "  super(Adam, self).__init__(name, **kwargs)\n"
          ]
        }
      ]
    },
    {
      "cell_type": "code",
      "source": [
        "history = model.fit(x_train, y_train, batch_size=batch, epochs=epochs, validation_split=0.2, shuffle = True, verbose=1)"
      ],
      "metadata": {
        "id": "b1mrBuSgaw40",
        "colab": {
          "base_uri": "https://localhost:8080/"
        },
        "outputId": "c7110e22-24e4-4ab2-b2f9-5f7a32026360"
      },
      "execution_count": null,
      "outputs": [
        {
          "output_type": "stream",
          "name": "stdout",
          "text": [
            "Epoch 1/15\n",
            "979/979 [==============================] - 38s 28ms/step - loss: 0.8051 - accuracy: 0.7786 - val_loss: 3.3557 - val_accuracy: 0.5710\n",
            "Epoch 2/15\n",
            "979/979 [==============================] - 26s 27ms/step - loss: 0.1336 - accuracy: 0.9584 - val_loss: 1.1521 - val_accuracy: 0.7570\n",
            "Epoch 3/15\n",
            "979/979 [==============================] - 27s 27ms/step - loss: 0.0751 - accuracy: 0.9775 - val_loss: 1.2363 - val_accuracy: 0.7693\n",
            "Epoch 4/15\n",
            "979/979 [==============================] - 26s 27ms/step - loss: 0.0870 - accuracy: 0.9778 - val_loss: 0.2599 - val_accuracy: 0.9314\n",
            "Epoch 5/15\n",
            "979/979 [==============================] - 26s 26ms/step - loss: 0.0389 - accuracy: 0.9894 - val_loss: 0.2424 - val_accuracy: 0.9360\n",
            "Epoch 6/15\n",
            "979/979 [==============================] - 27s 27ms/step - loss: 0.0653 - accuracy: 0.9855 - val_loss: 1.4102 - val_accuracy: 0.8128\n",
            "Epoch 7/15\n",
            "979/979 [==============================] - 27s 27ms/step - loss: 0.0350 - accuracy: 0.9916 - val_loss: 0.0327 - val_accuracy: 0.9903\n",
            "Epoch 8/15\n",
            "979/979 [==============================] - 27s 27ms/step - loss: 0.0465 - accuracy: 0.9899 - val_loss: 1.1804 - val_accuracy: 0.8172\n",
            "Epoch 9/15\n",
            "979/979 [==============================] - 26s 27ms/step - loss: 0.0375 - accuracy: 0.9918 - val_loss: 0.4124 - val_accuracy: 0.9287\n",
            "Epoch 10/15\n",
            "979/979 [==============================] - 26s 27ms/step - loss: 0.0270 - accuracy: 0.9940 - val_loss: 0.4709 - val_accuracy: 0.9225\n",
            "Epoch 11/15\n",
            "979/979 [==============================] - 27s 28ms/step - loss: 0.0408 - accuracy: 0.9920 - val_loss: 0.1126 - val_accuracy: 0.9778\n",
            "Epoch 12/15\n",
            "979/979 [==============================] - 27s 28ms/step - loss: 0.0278 - accuracy: 0.9946 - val_loss: 0.0595 - val_accuracy: 0.9848\n",
            "Epoch 13/15\n",
            "979/979 [==============================] - 26s 27ms/step - loss: 0.0293 - accuracy: 0.9937 - val_loss: 0.1035 - val_accuracy: 0.9785\n",
            "Epoch 14/15\n",
            "979/979 [==============================] - 27s 28ms/step - loss: 0.0252 - accuracy: 0.9949 - val_loss: 0.2187 - val_accuracy: 0.9551\n",
            "Epoch 15/15\n",
            "979/979 [==============================] - 26s 27ms/step - loss: 0.0218 - accuracy: 0.9951 - val_loss: 0.1474 - val_accuracy: 0.9810\n"
          ]
        }
      ]
    },
    {
      "cell_type": "code",
      "source": [
        "test_loss, test_acc = model.evaluate(x_test, y_test)\n",
        "print('Test accuracy:', test_acc)\n",
        "print('Test loss:', test_loss)"
      ],
      "metadata": {
        "id": "kTECL8Fza3OD",
        "colab": {
          "base_uri": "https://localhost:8080/"
        },
        "outputId": "cfd24ca0-57ff-429a-867f-6d0e3dbfc9e6"
      },
      "execution_count": null,
      "outputs": [
        {
          "output_type": "stream",
          "name": "stdout",
          "text": [
            "272/272 [==============================] - 2s 6ms/step - loss: 0.1214 - accuracy: 0.9843\n",
            "Test accuracy: 0.9842528700828552\n",
            "Test loss: 0.12138509005308151\n"
          ]
        }
      ]
    },
    {
      "cell_type": "code",
      "source": [
        "def plot_results(model):\n",
        "\n",
        "  plt.figure(figsize=(12, 12))\n",
        "  plt.subplot(3, 2, 1)\n",
        "  plt.plot(history.history['accuracy'], label = 'train_accuracy')\n",
        "  plt.plot(history.history['val_accuracy'], label = 'val_accuracy')\n",
        "  plt.xlabel('epoch')\n",
        "  plt.ylabel('accuracy')\n",
        "  plt.legend()\n",
        "  plt.subplot(3, 2, 2)\n",
        "  plt.plot(history.history['loss'], label = 'train_loss')\n",
        "  plt.plot(history.history['val_loss'], label = 'val_loss')\n",
        "  plt.xlabel('epoch')\n",
        "  plt.ylabel('accuracy')\n",
        "  plt.legend()\n",
        "  plt.show()\n",
        "\n",
        "\n",
        "    \n",
        "plot_results(model)"
      ],
      "metadata": {
        "id": "36H7Zqnra6Pj",
        "colab": {
          "base_uri": "https://localhost:8080/",
          "height": 257
        },
        "outputId": "8ec7b468-4409-4de3-c75c-e6e212624e8b"
      },
      "execution_count": null,
      "outputs": [
        {
          "output_type": "display_data",
          "data": {
            "text/plain": [
              "<Figure size 864x864 with 2 Axes>"
            ],
            "image/png": "[encoded data removed]"
          },
          "metadata": {
            "needs_background": "light"
          }
        }
      ]
    },
    {
      "cell_type": "code",
      "source": [
        "model.save(\"model.h5\")"
      ],
      "metadata": {
        "id": "NmkNF2iQ8I2H"
      },
      "execution_count": null,
      "outputs": []
    },
    {
      "cell_type": "code",
      "source": [
        "from google.colab import files\n",
        "# files.upload()\n",
        "# files.download(\"/content/model.h5\")"
      ],
      "metadata": {
        "id": "VuTEH1WY8bg9"
      },
      "execution_count": null,
      "outputs": []
    },
    {
      "cell_type": "code",
      "source": [
        "# model = tf.keras.models.load_model('/content/hands.h5')\n",
        "# loss, acc = model.evaluate(x_test, y_test)\n",
        "# print(loss, acc)"
      ],
      "metadata": {
        "id": "q3n0dYWvZ62U"
      },
      "execution_count": null,
      "outputs": []
    },
    {
      "cell_type": "code",
      "source": [
        "from IPython.display import display, Javascript, Image\n",
        "from google.colab.output import eval_js\n",
        "import html\n",
        "from base64 import b64decode, b64encode\n",
        "import cv2\n",
        "import numpy as np\n",
        "import PIL\n",
        "import io\n",
        "\n",
        "def jsob_to_image(js_object):\n",
        "  # decode base64 image\n",
        "  image_bytes = b64decode(js_object.split(',')[1])\n",
        "  # convert bytes to numpy array\n",
        "  img_array = np.frombuffer(image_bytes, dtype=np.uint8)\n",
        "  # convert numpy array into OpenCV BGR \n",
        "  frame = cv2.imdecode(img_array, flags=1)\n",
        "\n",
        "  return frame\n",
        "\n",
        "def video_stream():\n",
        "  js = Javascript('''\n",
        "    var video;\n",
        "    var div = null;\n",
        "    var stream;\n",
        "    var captureCanvas;\n",
        "    var imgElement;\n",
        "    var labelElement;\n",
        "    \n",
        "    var pendingResolve = null;\n",
        "    var shutdown = false;\n",
        "    \n",
        "    function removeDom() {\n",
        "       stream.getVideoTracks()[0].stop();\n",
        "       video.remove();\n",
        "       div.remove();\n",
        "       video = null;\n",
        "       div = null;\n",
        "       stream = null;\n",
        "       imgElement = null;\n",
        "       captureCanvas = null;\n",
        "       labelElement = null;\n",
        "    }\n",
        "    \n",
        "    function onAnimationFrame() {\n",
        "      if (!shutdown) {\n",
        "        window.requestAnimationFrame(onAnimationFrame);\n",
        "      }\n",
        "      if (pendingResolve) {\n",
        "        var result = \"\";\n",
        "        if (!shutdown) {\n",
        "          captureCanvas.getContext('2d').drawImage(video, 0, 0, 640, 480);\n",
        "          result = captureCanvas.toDataURL('image/jpeg', 0.8)\n",
        "        }\n",
        "        var lp = pendingResolve;\n",
        "        pendingResolve = null;\n",
        "        lp(result);\n",
        "      }\n",
        "    }\n",
        "    \n",
        "    async function createDom() {\n",
        "      if (div !== null) {\n",
        "        return stream;\n",
        "      }\n",
        "      div = document.createElement('div');\n",
        "      div.style.border = '2px solid black';\n",
        "      div.style.padding = '3px';\n",
        "      div.style.width = '100%';\n",
        "      div.style.maxWidth = '600px';\n",
        "      document.body.appendChild(div);\n",
        "      \n",
        "           \n",
        "      video = document.createElement('video');\n",
        "      video.style.display = 'block';\n",
        "      video.width = div.clientWidth - 6;\n",
        "      video.setAttribute('playsinline', '');\n",
        "      video.onclick = () => { shutdown = true; };\n",
        "      stream = await navigator.mediaDevices.getUserMedia(\n",
        "          {video: { facingMode: \"environment\"}});\n",
        "      div.appendChild(video);\n",
        "      imgElement = document.createElement('img');\n",
        "      imgElement.style.position = 'absolute';\n",
        "      imgElement.style.zIndex = 1;\n",
        "      imgElement.onclick = () => { shutdown = true; };\n",
        "      div.appendChild(imgElement);\n",
        "      \n",
        "      const instruction = document.createElement('div');\n",
        "      instruction.innerHTML = \n",
        "          '<span style=\"blue: red; font-weight: bold;\">' +\n",
        "          'click here to stop the video</span>';\n",
        "      div.appendChild(instruction);\n",
        "      instruction.onclick = () => { shutdown = true; };\n",
        "      \n",
        "      video.srcObject = stream;\n",
        "      await video.play();\n",
        "      captureCanvas = document.createElement('canvas');\n",
        "      captureCanvas.width = 640; \n",
        "      captureCanvas.height = 480; \n",
        "      window.requestAnimationFrame(onAnimationFrame);\n",
        "      \n",
        "      return stream;\n",
        "    }\n",
        "    async function stream_frame() {\n",
        "      if (shutdown) {\n",
        "        removeDom();\n",
        "        shutdown = false;\n",
        "        return '';\n",
        "      }\n",
        "      var preCreate = Date.now();\n",
        "      stream = await createDom();\n",
        "      \n",
        "      var preShow = Date.now();\n",
        "  \n",
        "            \n",
        "      \n",
        "      var preCapture = Date.now();\n",
        "      var result = await new Promise(function(resolve, reject) {\n",
        "        pendingResolve = resolve;\n",
        "      });\n",
        "      shutdown = false;\n",
        "      \n",
        "      return {'create': preShow - preCreate, \n",
        "              'show': preCapture - preShow, \n",
        "              'capture': Date.now() - preCapture,\n",
        "              'img': result};\n",
        "    }\n",
        "    ''')\n",
        "\n",
        "  display(js)\n",
        "  \n",
        "def video_frame():\n",
        "  data = eval_js('stream_frame()')\n",
        "  return data"
      ],
      "metadata": {
        "id": "JarOwu8A9Pnz"
      },
      "execution_count": null,
      "outputs": []
    },
    {
      "cell_type": "code",
      "source": [
        "video_stream()\n",
        "from google.colab.patches import cv2_imshow\n",
        "\n",
        "while True:\n",
        "    frame_js = video_frame()\n",
        "    if not frame_js:\n",
        "        break\n",
        "    img = jsob_to_image(frame_js[\"img\"])\n",
        "    # img = cv2.cvtColor(img, cv2.COLOR_BGR2GRAY)\n",
        "    # get center 200x200 image, then resize so its like the data\n",
        "    # h: 480\n",
        "    # w: 640\n",
        "    # should be h -> 140:341 ?\n",
        "    #           w -> 220:421 ?  1 for the exclusive part\n",
        "    # img = img[140:340, 220:420, :]\n",
        "    img = img[140:340, 220:420, :]\n",
        "    # img = img[140:340, 220:420, None] #b and w    \n",
        "    # should be good, just put hand in middle of screen and it should work now?\n",
        "    cv2_imshow(img)\n",
        "    img_small = cv2.resize(img, (IMSIZE, IMSIZE))\n",
        "    img_new = np.expand_dims(img_small, axis=0)\n",
        "    saved = model(img_new)\n",
        "    print(saved)\n",
        "    index = tf.where(saved).numpy()\n",
        "    print(index)\n",
        "    print(classes_List[index[0][1]])\n"
      ],
      "metadata": {
        "id": "tkNy4dLk9Pnz",
        "colab": {
          "base_uri": "https://localhost:8080/",
          "height": 596
        },
        "outputId": "65ec0fc6-654b-4808-f67c-cdca4d3f9f21"
      },
      "execution_count": null,
      "outputs": [
        {
          "output_type": "display_data",
          "data": {
            "text/plain": [
              "<IPython.core.display.Javascript object>"
            ],
            "application/javascript": [
              "\n",
              "    var video;\n",
              "    var div = null;\n",
              "    var stream;\n",
              "    var captureCanvas;\n",
              "    var imgElement;\n",
              "    var labelElement;\n",
              "    \n",
              "    var pendingResolve = null;\n",
              "    var shutdown = false;\n",
              "    \n",
              "    function removeDom() {\n",
              "       stream.getVideoTracks()[0].stop();\n",
              "       video.remove();\n",
              "       div.remove();\n",
              "       video = null;\n",
              "       div = null;\n",
              "       stream = null;\n",
              "       imgElement = null;\n",
              "       captureCanvas = null;\n",
              "       labelElement = null;\n",
              "    }\n",
              "    \n",
              "    function onAnimationFrame() {\n",
              "      if (!shutdown) {\n",
              "        window.requestAnimationFrame(onAnimationFrame);\n",
              "      }\n",
              "      if (pendingResolve) {\n",
              "        var result = \"\";\n",
              "        if (!shutdown) {\n",
              "          captureCanvas.getContext('2d').drawImage(video, 0, 0, 640, 480);\n",
              "          result = captureCanvas.toDataURL('image/jpeg', 0.8)\n",
              "        }\n",
              "        var lp = pendingResolve;\n",
              "        pendingResolve = null;\n",
              "        lp(result);\n",
              "      }\n",
              "    }\n",
              "    \n",
              "    async function createDom() {\n",
              "      if (div !== null) {\n",
              "        return stream;\n",
              "      }\n",
              "      div = document.createElement('div');\n",
              "      div.style.border = '2px solid black';\n",
              "      div.style.padding = '3px';\n",
              "      div.style.width = '100%';\n",
              "      div.style.maxWidth = '600px';\n",
              "      document.body.appendChild(div);\n",
              "      \n",
              "           \n",
              "      video = document.createElement('video');\n",
              "      video.style.display = 'block';\n",
              "      video.width = div.clientWidth - 6;\n",
              "      video.setAttribute('playsinline', '');\n",
              "      video.onclick = () => { shutdown = true; };\n",
              "      stream = await navigator.mediaDevices.getUserMedia(\n",
              "          {video: { facingMode: \"environment\"}});\n",
              "      div.appendChild(video);\n",
              "      imgElement = document.createElement('img');\n",
              "      imgElement.style.position = 'absolute';\n",
              "      imgElement.style.zIndex = 1;\n",
              "      imgElement.onclick = () => { shutdown = true; };\n",
              "      div.appendChild(imgElement);\n",
              "      \n",
              "      const instruction = document.createElement('div');\n",
              "      instruction.innerHTML = \n",
              "          '<span style=\"blue: red; font-weight: bold;\">' +\n",
              "          'click here to stop the video</span>';\n",
              "      div.appendChild(instruction);\n",
              "      instruction.onclick = () => { shutdown = true; };\n",
              "      \n",
              "      video.srcObject = stream;\n",
              "      await video.play();\n",
              "      captureCanvas = document.createElement('canvas');\n",
              "      captureCanvas.width = 640; \n",
              "      captureCanvas.height = 480; \n",
              "      window.requestAnimationFrame(onAnimationFrame);\n",
              "      \n",
              "      return stream;\n",
              "    }\n",
              "    async function stream_frame() {\n",
              "      if (shutdown) {\n",
              "        removeDom();\n",
              "        shutdown = false;\n",
              "        return '';\n",
              "      }\n",
              "      var preCreate = Date.now();\n",
              "      stream = await createDom();\n",
              "      \n",
              "      var preShow = Date.now();\n",
              "  \n",
              "            \n",
              "      \n",
              "      var preCapture = Date.now();\n",
              "      var result = await new Promise(function(resolve, reject) {\n",
              "        pendingResolve = resolve;\n",
              "      });\n",
              "      shutdown = false;\n",
              "      \n",
              "      return {'create': preShow - preCreate, \n",
              "              'show': preCapture - preShow, \n",
              "              'capture': Date.now() - preCapture,\n",
              "              'img': result};\n",
              "    }\n",
              "    "
            ]
          },
          "metadata": {}
        },
        {
          "output_type": "display_data",
          "data": {
            "text/plain": [
              "<PIL.Image.Image image mode=RGB size=200x200 at 0x7F17AA7EC1F0>"
            ],
            "image/png": "[encoded data removed]"
          },
          "metadata": {}
        },
        {
          "output_type": "stream",
          "name": "stdout",
          "text": [
            "tf.Tensor(\n",
            "[[0. 0. 0. 0. 0. 1. 0. 0. 0. 0. 0. 0. 0. 0. 0. 0. 0. 0. 0. 0. 0. 0. 0. 0.\n",
            "  0. 0. 0. 0. 0.]], shape=(1, 29), dtype=float32)\n",
            "[[0 5]]\n",
            "F\n"
          ]
        },
        {
          "output_type": "display_data",
          "data": {
            "text/plain": [
              "<PIL.Image.Image image mode=RGB size=200x200 at 0x7F17AAA21AF0>"
            ],
            "image/png": "[encoded data removed]"
          },
          "metadata": {}
        },
        {
          "output_type": "stream",
          "name": "stdout",
          "text": [
            "tf.Tensor(\n",
            "[[0. 0. 0. 0. 0. 1. 0. 0. 0. 0. 0. 0. 0. 0. 0. 0. 0. 0. 0. 0. 0. 0. 0. 0.\n",
            "  0. 0. 0. 0. 0.]], shape=(1, 29), dtype=float32)\n",
            "[[0 5]]\n",
            "F\n"
          ]
        }
      ]
    }
  ]
}